{
 "cells": [
  {
   "cell_type": "markdown",
   "id": "f529a716-f1a7-4c1a-b07e-0af3dc817852",
   "metadata": {},
   "source": [
    "# 1. Introduction\n",
    "\n",
    "## Qu'est-ce que TensorFlow ?\n",
    "\n",
    "### Présentation de TensorFlow\n",
    "\n",
    "**TensorFlow** est une bibliothèque open-source développée par Google pour le Machine Learning et le Deep Learning. Lancée en 2015, elle est conçue pour faciliter la création, l'entraînement et le déploiement de modèles d'apprentissage automatique. TensorFlow permet de réaliser des calculs numériques complexes en utilisant des graphes de flux de données, ce qui la rend particulièrement adaptée pour le traitement de grandes quantités de données.\n",
    "\n",
    "**Pourquoi TensorFlow est-il important ?**\n",
    "\n",
    "- **Flexibilité** : TensorFlow supporte une variété de modèles, des réseaux de neurones simples aux architectures complexes comme les Convolutional Neural Networks (CNN) et les Recurrent Neural Networks (RNN).\n",
    "- **Portabilité** : Les modèles TensorFlow peuvent être déployés sur différentes plateformes, y compris les ordinateurs personnels, les serveurs, les appareils mobiles et les navigateurs web.\n",
    "- **Communauté Active** : En tant que projet open-source soutenu par Google, TensorFlow bénéficie d'une large communauté de développeurs qui contribuent à son amélioration continue.\n",
    "- **Intégration avec Keras** : TensorFlow intègre Keras, une API haut niveau qui simplifie la construction et l'entraînement de modèles de Deep Learning.\n",
    "\n",
    "### Applications courantes de TensorFlow dans l'industrie et la recherche\n",
    "\n",
    "TensorFlow est utilisé dans de nombreux domaines pour résoudre une variété de problèmes complexes :\n",
    "\n",
    "- **Vision par Ordinateur** : Reconnaissance d'images, détection d'objets, segmentation d'images.\n",
    "- **Traitement du Langage Naturel (NLP)** : Traduction automatique, analyse de sentiments, génération de texte.\n",
    "- **Reconnaissance Vocale** : Transcription de la parole en texte, assistants vocaux.\n",
    "- **Systèmes de Recommandation** : Suggestions personnalisées de produits, films, musique.\n",
    "- **Séries Temporelles** : Prévisions financières, analyses météorologiques.\n",
    "- **Recherche Médicale** : Diagnostic assisté par IA, analyse d'images médicales, découverte de médicaments.\n",
    "\n",
    "**Exemples concrets :**\n",
    "\n",
    "- **Google Translate** utilise TensorFlow pour améliorer la qualité de ses traductions en utilisant des modèles de Deep Learning.\n",
    "- **Airbnb** optimise ses résultats de recherche et recommandations en analysant les préférences des utilisateurs avec TensorFlow.\n",
    "- **Uber** utilise TensorFlow pour prédire la demande de trajets et optimiser les itinéraires.\n",
    "\n",
    "### Pourquoi apprendre TensorFlow ?\n",
    "\n",
    "Apprendre TensorFlow vous permettra de :\n",
    "\n",
    "- **Comprendre les fondements du Deep Learning** et comment construire des modèles performants.\n",
    "- **Résoudre des problèmes complexes** dans divers domaines en utilisant des techniques avancées d'apprentissage automatique.\n",
    "- **Améliorer votre employabilité** dans un marché du travail où les compétences en IA et en Deep Learning sont de plus en plus recherchées.\n",
    "\n",
    "---\n",
    "\n",
    "**Note :** Dans les sections suivantes, nous allons explorer comment installer TensorFlow, comprendre ses composants de base, et construire notre premier modèle de Deep Learning."
   ]
  },
  {
   "cell_type": "markdown",
   "id": "38739685-7bc2-4623-b4ae-bf5cc0b8fcb5",
   "metadata": {},
   "source": [
    "# 2. Installation et Configuration\n",
    "\n",
    "## Installer TensorFlow\n",
    "\n",
    "### Installation avec `pip`\n",
    "\n",
    "La méthode la plus courante pour installer TensorFlow est d'utiliser `pip`, le gestionnaire de paquets pour Python.\n",
    "\n",
    "#### Prérequis\n",
    "\n",
    "- **Python +3.10** : Assurez-vous d'avoir une version compatible de Python installée sur votre système.\n",
    "- **pip** : Généralement installé avec Python. Vous pouvez vérifier sa version avec `pip --version`.\n",
    "\n",
    "#### Étapes d'installation\n",
    "\n",
    "1. **Mettre à jour `pip`**\n",
    "\n",
    "   ```bash\n",
    "   pip install --upgrade pip\n",
    "   ```\n",
    "\n",
    "2. **Installer TensorFlow**\n",
    "\n",
    "   Pour installer la dernière version stable de TensorFlow :\n",
    "\n",
    "   ```bash\n",
    "   pip install tensorflow\n",
    "   ```\n",
    "\n",
    "   Si vous disposez d'une carte graphique compatible avec CUDA et que vous souhaitez utiliser l'accélération GPU :\n",
    "\n",
    "   ```bash\n",
    "   pip install tensorflow-gpu\n",
    "   ```\n",
    "\n",
    "   **Note :** L'installation GPU nécessite des configurations supplémentaires (CUDA Toolkit et cuDNN).\n",
    "\n",
    "\n",
    "### Vérification de l'installation\n",
    "\n",
    "Après l'installation, vous pouvez vérifier que TensorFlow est correctement installé en exécutant les commandes suivantes dans un interpréteur Python :\n",
    "\n",
    "```python\n",
    "import tensorflow as tf\n",
    "print(tf.__version__)\n",
    "```\n",
    "\n",
    "Si aucune erreur n'apparaît et que la version de TensorFlow s'affiche, l'installation est réussie.\n",
    "\n",
    "## Configuration de l'environnement\n",
    "\n",
    "### Utilisation de Google Colab\n",
    "\n",
    "Pour éviter les problèmes d'installation et commencer rapidement, vous pouvez utiliser **Google Colab**, un service gratuit qui vous permet d'exécuter des notebooks Jupyter dans le cloud.\n",
    "\n",
    "#### Avantages de Google Colab\n",
    "\n",
    "- **Pas d'installation nécessaire** : Accès immédiat à un environnement Python avec TensorFlow préinstallé.\n",
    "- **Accélération GPU gratuite** : Possibilité d'utiliser des GPU pour accélérer l'entraînement des modèles.\n",
    "- **Partage facile** : Partagez vos notebooks avec d'autres personnes via Google Drive.\n",
    "\n",
    "#### Comment accéder à Google Colab\n",
    "\n",
    "1. Rendez-vous sur [Google Colab](https://colab.research.google.com/).\n",
    "2. Connectez-vous avec votre compte Google.\n",
    "3. Créez un nouveau notebook en cliquant sur \"Nouveau Notebook\".\n",
    "\n",
    "3. **Installer TensorFlow dans l'environnement virtuel**\n",
    "\n",
    "   ```bash\n",
    "   pip install --upgrade pip\n",
    "   pip install tensorflow\n",
    "   ```\n",
    "\n",
    "### Notes supplémentaires\n",
    "\n",
    "- **Gestion des versions** : Assurez-vous que la version de TensorFlow installée est compatible avec votre version de Python.\n",
    "- **Problèmes courants** : En cas de problèmes lors de l'installation, consultez la [documentation officielle de TensorFlow](https://www.tensorflow.org/install) pour des instructions détaillées.\n",
    "\n",
    "---\n",
    "\n",
    "**Conseil :** Si vous débutez, il est fortement recommandé d'utiliser Google Colab pour éviter les complexités liées à l'installation et pour bénéficier de l'accélération GPU sans configuration supplémentaire.\n",
    "\n",
    "Dans les sections suivantes, nous utiliserons principalement des notebooks Jupyter, que ce soit localement ou via Google Colab, pour écrire et exécuter notre code TensorFlow."
   ]
  },
  {
   "cell_type": "code",
   "execution_count": null,
   "id": "dde5a78d-d26c-4bd0-8134-440c07f7bff1",
   "metadata": {},
   "outputs": [],
   "source": [
    "#installer tensorflow"
   ]
  },
  {
   "cell_type": "code",
   "execution_count": 1,
   "id": "4661f45f-f096-4acb-a46a-2a030426533b",
   "metadata": {},
   "outputs": [
    {
     "name": "stdout",
     "output_type": "stream",
     "text": [
      "2.18.0\n"
     ]
    }
   ],
   "source": [
    "#vérifier son installation\n",
    "import tensorflow as tf\n",
    "print(tf.__version__)"
   ]
  },
  {
   "cell_type": "markdown",
   "id": "b36d610e-661d-41b9-8a82-50afcd492359",
   "metadata": {},
   "source": [
    "# 3. Premiers Pas avec TensorFlow\n",
    "\n",
    "## Les Tenseurs\n",
    "\n",
    "### Comprendre ce qu'est un tenseur\n",
    "\n",
    "Un **tenseur** est la structure de données fondamentale de TensorFlow. Il s'agit d'une généralisation des vecteurs et des matrices à des dimensions potentiellement supérieures. En termes simples, un tenseur est un tableau multidimensionnel qui contient des éléments de même type.\n",
    "\n",
    "**Dimensions des tenseurs :**\n",
    "\n",
    "- **Scalaire (0-D tenseur)** : Un seul nombre.\n",
    "- **Vecteur (1-D tenseur)** : Une liste de nombres.\n",
    "- **Matrice (2-D tenseur)** : Une grille de nombres (tableau à deux dimensions).\n",
    "- **Tenseur de rang N** : Un tableau N-dimensionnel.\n",
    "\n",
    "![Scalaire_Vecteur_Matrice_Tenseur de rang N](https://miro.medium.com/v2/resize:fit:2000/1*bJfG0fYzsYPOreyztcq6NA.png)\n",
    "\n",
    "**Pourquoi les tenseurs sont-ils importants ?**\n",
    "\n",
    "Les tenseurs permettent de représenter des données de différentes formes et dimensions, ce qui est essentiel pour le traitement de données complexes comme les images, les textes ou les séries temporelles en Deep Learning.\n",
    "\n",
    "### Création et manipulation de tenseurs avec TensorFlow\n",
    "\n",
    "Commençons par importer TensorFlow :\n",
    "\n",
    "```python\n",
    "import tensorflow as tf\n",
    "```\n",
    "\n",
    "#### Création de tenseurs\n",
    "\n",
    "1. **Tenseurs constants :**\n",
    "\n",
    "   Utilisez `tf.constant` pour créer un tenseur immuable.\n",
    "\n",
    "   ```python\n",
    "   # Scalaire\n",
    "   scalar = tf.constant(3)\n",
    "   print(\"Scalaire :\", scalar)\n",
    "   ```\n",
    "\n",
    "   ```python\n",
    "   # Vecteur\n",
    "   vector = tf.constant([1.0, 2.0, 3.0])\n",
    "   print(\"Vecteur :\", vector)\n",
    "   ```\n",
    "\n",
    "   ```python\n",
    "   # Matrice\n",
    "   matrix = tf.constant([[1, 2],\n",
    "                         [3, 4]])\n",
    "   print(\"Matrice :\", matrix)\n",
    "   ```\n",
    "\n",
    "2. **Tenseurs aléatoires :**\n",
    "\n",
    "   Utilisez `tf.random` pour créer des tenseurs avec des valeurs aléatoires.\n",
    "\n",
    "   ```python\n",
    "   random_tensor = tf.random.uniform(shape=(2, 2), minval=0, maxval=1)\n",
    "   print(\"Tenseur aléatoire :\", random_tensor)\n",
    "   ```\n",
    "\n",
    "3. **Tenseurs remplis de zéro ou de un :**\n",
    "\n",
    "   ```python\n",
    "   zeros = tf.zeros(shape=(2, 2))\n",
    "   ones = tf.ones(shape=(3, 3))\n",
    "   print(\"Zeros :\", zeros)\n",
    "   print(\"Ones :\", ones)\n",
    "   ```\n",
    "\n",
    "#### Propriétés des tenseurs\n",
    "\n",
    "- **Type de données (`dtype`)** : Type des éléments du tenseur (ex : `tf.float32`, `tf.int32`).\n",
    "- **Forme (`shape`)** : Dimensions du tenseur.\n",
    "\n",
    "```python\n",
    "print(\"Type de données :\", vector.dtype)\n",
    "print(\"Forme du vecteur :\", vector.shape)\n",
    "```\n",
    "\n",
    "#### Manipulation des tenseurs\n",
    "\n",
    "1. **Indexation et slicing :**\n",
    "\n",
    "   ```python\n",
    "   # Accéder au premier élément du vecteur\n",
    "   first_element = vector[0]\n",
    "   print(\"Premier élément :\", first_element)\n",
    "\n",
    "   # Slicing d'une matrice\n",
    "   sub_matrix = matrix[:, 0]\n",
    "   print(\"Première colonne de la matrice :\", sub_matrix)\n",
    "   ```\n",
    "\n",
    "2. **Changement de forme (reshaping) :**\n",
    "\n",
    "   ```python\n",
    "   reshaped = tf.reshape(vector, [3, 1])\n",
    "   print(\"Vecteur reshaped :\", reshaped)\n",
    "   ```\n",
    "\n",
    "3. **Conversion en tableau NumPy :**\n",
    "\n",
    "   ```python\n",
    "   numpy_array = vector.numpy()\n",
    "   print(\"Tableau NumPy :\", numpy_array)\n",
    "   ```\n",
    "\n",
    "## Opérations de Base\n",
    "\n",
    "### Opérations mathématiques simples\n",
    "\n",
    "TensorFlow fournit une variété d'opérations mathématiques que vous pouvez effectuer sur les tenseurs.\n",
    "\n",
    "1. **Addition et soustraction :**\n",
    "\n",
    "   ```python\n",
    "   a = tf.constant([1, 2, 3])\n",
    "   b = tf.constant([4, 5, 6])\n",
    "\n",
    "   addition = tf.add(a, b)\n",
    "   soustraction = tf.subtract(a, b)\n",
    "\n",
    "   print(\"Addition :\", addition)\n",
    "   print(\"Soustraction :\", soustraction)\n",
    "   ```\n",
    "\n",
    "2. **Multiplication et division :**\n",
    "\n",
    "   ```python\n",
    "   multiplication = tf.multiply(a, b)\n",
    "   division = tf.divide(b, a)\n",
    "\n",
    "   print(\"Multiplication :\", multiplication)\n",
    "   print(\"Division :\", division)\n",
    "   ```\n",
    "\n",
    "3. **Opérations mathématiques avancées :**\n",
    "\n",
    "   ```python\n",
    "   # Exponentielle\n",
    "   exp = tf.exp(a)\n",
    "   print(\"Exponentielle :\", exp)\n",
    "\n",
    "   # Racine carrée\n",
    "   sqrt = tf.sqrt(tf.cast(b, tf.float32))\n",
    "   print(\"Racine carrée :\", sqrt)\n",
    "   ```\n",
    "\n",
    "### Utilisation des variables et constantes\n",
    "\n",
    "#### Constantes\n",
    "\n",
    "Les constantes sont des valeurs immuables définies à l'aide de `tf.constant`.\n",
    "\n",
    "```python\n",
    "const = tf.constant(10)\n",
    "print(\"Constante :\", const)\n",
    "```\n",
    "\n",
    "#### Variables\n",
    "\n",
    "Les variables sont des tenseurs dont les valeurs peuvent être modifiées après leur création. Elles sont créées avec `tf.Variable` et sont principalement utilisées pour stocker les poids et les biais dans les modèles d'apprentissage.\n",
    "\n",
    "```python\n",
    "var = tf.Variable(5)\n",
    "print(\"Variable initiale :\", var)\n",
    "\n",
    "# Mise à jour de la variable\n",
    "var.assign(10)\n",
    "print(\"Variable mise à jour :\", var)\n",
    "```\n",
    "\n",
    "#### Différence entre variables et constantes\n",
    "\n",
    "- **Constantes (`tf.constant`)** : Immuables après leur création.\n",
    "- **Variables (`tf.Variable`)** : Muables, leur valeur peut être modifiée.\n",
    "\n",
    "#### Exemple d'utilisation des variables\n",
    "\n",
    "Supposons que vous souhaitiez modéliser l'équation linéaire `y = mx + b`, où `m` et `b` sont des variables.\n",
    "\n",
    "```python\n",
    "# Initialisation des variables\n",
    "m = tf.Variable(0.5)\n",
    "b = tf.Variable(1.0)\n",
    "\n",
    "# Fonction linéaire\n",
    "def linear_function(x):\n",
    "    return m * x + b\n",
    "\n",
    "# Calcul pour x = 2\n",
    "x = tf.constant(2.0)\n",
    "y = linear_function(x)\n",
    "print(\"Résultat de y pour x=2 :\", y)\n",
    "```\n",
    "\n",
    "**Mise à jour des variables :**\n",
    "\n",
    "Vous pouvez mettre à jour les variables en utilisant les méthodes `assign`, `assign_add`, ou `assign_sub`.\n",
    "\n",
    "```python\n",
    "# Augmenter m de 0.1\n",
    "m.assign_add(0.1)\n",
    "print(\"Nouvelle valeur de m :\", m)\n",
    "\n",
    "# Recalculer y avec le nouveau m\n",
    "y_new = linear_function(x)\n",
    "print(\"Nouveau résultat de y pour x=2 :\", y_new)\n",
    "```\n",
    "\n",
    "---\n",
    "\n",
    "**Note :** Les variables sont essentielles lors de l'entraînement des modèles, car les algorithmes d'optimisation ajustent les variables (poids) pour minimiser la fonction de perte."
   ]
  },
  {
   "cell_type": "code",
   "execution_count": 3,
   "id": "2843b8c0-2100-4f8e-ad7e-a5d0b6e5236d",
   "metadata": {},
   "outputs": [
    {
     "name": "stdout",
     "output_type": "stream",
     "text": [
      "Scalar: tf.Tensor(3, shape=(), dtype=int32)\n"
     ]
    }
   ],
   "source": [
    "# A vous de jouer\n",
    "scalar = tf.constant(3)\n",
    "print(\"Scalar:\", scalar)"
   ]
  },
  {
   "cell_type": "code",
   "execution_count": 4,
   "id": "f85258e9",
   "metadata": {},
   "outputs": [
    {
     "name": "stdout",
     "output_type": "stream",
     "text": [
      "Vector: tf.Tensor([1. 2. 3.], shape=(3,), dtype=float32)\n"
     ]
    }
   ],
   "source": [
    "vector = tf.constant([1.0, 2.0, 3.0])\n",
    "print(\"Vector:\", vector)\n",
    "\n"
   ]
  },
  {
   "cell_type": "code",
   "execution_count": 5,
   "id": "1c0570ff",
   "metadata": {},
   "outputs": [
    {
     "name": "stdout",
     "output_type": "stream",
     "text": [
      "Matrix: tf.Tensor(\n",
      "[[1 2]\n",
      " [3 4]], shape=(2, 2), dtype=int32)\n"
     ]
    }
   ],
   "source": [
    "matrix = tf.constant([[1, 2], [3, 4]])\n",
    "print(\"Matrix:\", matrix)"
   ]
  },
  {
   "cell_type": "code",
   "execution_count": 6,
   "id": "e0a2d75e",
   "metadata": {},
   "outputs": [
    {
     "name": "stdout",
     "output_type": "stream",
     "text": [
      "tf.Tensor(5, shape=(), dtype=int32) tf.Tensor([1 2 3], shape=(3,), dtype=int32) tf.Tensor(\n",
      "[[1 2]\n",
      " [3 4]], shape=(2, 2), dtype=int32)\n"
     ]
    }
   ],
   "source": [
    "scalar = tf.constant(5)\n",
    "vector = tf.constant([1, 2, 3])\n",
    "matrix = tf.constant([[1, 2], [3, 4]])\n",
    "print(scalar, vector, matrix)\n"
   ]
  },
  {
   "cell_type": "code",
   "execution_count": 7,
   "id": "be0f8361",
   "metadata": {},
   "outputs": [
    {
     "name": "stdout",
     "output_type": "stream",
     "text": [
      "tf.Tensor(\n",
      "[[5.437356   7.6829576 ]\n",
      " [5.0025663  0.46643257]], shape=(2, 2), dtype=float32)\n"
     ]
    }
   ],
   "source": [
    "random_tensor = tf.random.uniform(shape=(2, 2), minval=0, maxval=10)\n",
    "print(random_tensor)\n"
   ]
  },
  {
   "cell_type": "code",
   "execution_count": 8,
   "id": "dd2ecf3c",
   "metadata": {},
   "outputs": [
    {
     "name": "stdout",
     "output_type": "stream",
     "text": [
      "tf.Tensor(\n",
      "[[0. 0. 0.]\n",
      " [0. 0. 0.]\n",
      " [0. 0. 0.]], shape=(3, 3), dtype=float32) tf.Tensor(\n",
      "[[1. 1. 1.]\n",
      " [1. 1. 1.]\n",
      " [1. 1. 1.]], shape=(3, 3), dtype=float32)\n"
     ]
    }
   ],
   "source": [
    "zeros = tf.zeros([3, 3])\n",
    "ones = tf.ones([3, 3])\n",
    "print(zeros, ones)\n"
   ]
  },
  {
   "cell_type": "code",
   "execution_count": 9,
   "id": "cf9dc2c4",
   "metadata": {},
   "outputs": [
    {
     "name": "stdout",
     "output_type": "stream",
     "text": [
      "Data type of vector: <dtype: 'int32'>\n"
     ]
    }
   ],
   "source": [
    "print(\"Data type of vector:\", vector.dtype)\n"
   ]
  },
  {
   "cell_type": "code",
   "execution_count": 10,
   "id": "9cc9ae8b",
   "metadata": {},
   "outputs": [
    {
     "name": "stdout",
     "output_type": "stream",
     "text": [
      "Shape of matrix: (2, 2)\n"
     ]
    }
   ],
   "source": [
    "print(\"Shape of matrix:\", matrix.shape)\n"
   ]
  },
  {
   "cell_type": "code",
   "execution_count": 12,
   "id": "8d644d4c",
   "metadata": {},
   "outputs": [
    {
     "name": "stdout",
     "output_type": "stream",
     "text": [
      "First element: tf.Tensor(1, shape=(), dtype=int32)\n",
      "First column: tf.Tensor([1 3], shape=(2,), dtype=int32)\n"
     ]
    }
   ],
   "source": [
    "# Access the first element of a vector\n",
    "first_element = vector[0]\n",
    "print(\"First element:\", first_element)\n",
    "\n",
    "# Slice the first column of a matrix\n",
    "first_column = matrix[:, 0]\n",
    "print(\"First column:\", first_column)\n"
   ]
  },
  {
   "cell_type": "code",
   "execution_count": 13,
   "id": "34ffaa25",
   "metadata": {},
   "outputs": [
    {
     "name": "stdout",
     "output_type": "stream",
     "text": [
      "Reshaped vector: tf.Tensor(\n",
      "[[1]\n",
      " [2]\n",
      " [3]], shape=(3, 1), dtype=int32)\n"
     ]
    }
   ],
   "source": [
    "reshaped = tf.reshape(vector, [3, 1])\n",
    "print(\"Reshaped vector:\", reshaped)\n"
   ]
  },
  {
   "cell_type": "code",
   "execution_count": 14,
   "id": "b15293ff",
   "metadata": {},
   "outputs": [
    {
     "name": "stdout",
     "output_type": "stream",
     "text": [
      "[1 2 3]\n"
     ]
    }
   ],
   "source": [
    "numpy_array = vector.numpy()\n",
    "print(numpy_array)\n"
   ]
  },
  {
   "cell_type": "code",
   "execution_count": 15,
   "id": "59377a7a",
   "metadata": {},
   "outputs": [
    {
     "name": "stdout",
     "output_type": "stream",
     "text": [
      "[1 2 3]\n"
     ]
    }
   ],
   "source": [
    "numpy_array = vector.numpy()\n",
    "print(numpy_array)\n"
   ]
  },
  {
   "cell_type": "code",
   "execution_count": 18,
   "id": "a18cbb46",
   "metadata": {},
   "outputs": [
    {
     "name": "stdout",
     "output_type": "stream",
     "text": [
      "tf.Tensor([5 7 9], shape=(3,), dtype=int32) tf.Tensor([-3 -3 -3], shape=(3,), dtype=int32) tf.Tensor([ 4 10 18], shape=(3,), dtype=int32) tf.Tensor([0.25 0.4  0.5 ], shape=(3,), dtype=float64)\n"
     ]
    }
   ],
   "source": [
    "a = tf.constant([1, 2, 3])\n",
    "b = tf.constant([4, 5, 6])\n",
    "\n",
    "add = tf.add(a, b)\n",
    "subtract = tf.subtract(a, b)\n",
    "multiply = tf.multiply(a, b)\n",
    "divide = tf.divide(a, b)\n",
    "\n",
    "print(add, subtract, multiply, divide)\n"
   ]
  },
  {
   "cell_type": "code",
   "execution_count": 21,
   "id": "f57b46df",
   "metadata": {},
   "outputs": [
    {
     "name": "stdout",
     "output_type": "stream",
     "text": [
      "tf.Tensor([ 2.7182817  7.389056  20.085537 ], shape=(3,), dtype=float32)\n"
     ]
    }
   ],
   "source": [
    "\n",
    "# Define integer tensor\n",
    "a = tf.constant([1, 2, 3], dtype=tf.int32)\n",
    "\n",
    "# Cast to float32 before applying tf.exp\n",
    "a_float = tf.cast(a, tf.float32)\n",
    "exp = tf.exp(a_float)\n",
    "\n",
    "# Output the result\n",
    "print(exp)\n"
   ]
  },
  {
   "cell_type": "code",
   "execution_count": 22,
   "id": "cd1e83eb",
   "metadata": {},
   "outputs": [],
   "source": [
    "# Variables for slope (m) and intercept (b)\n",
    "m = tf.Variable(0.5)  # Slope\n",
    "b = tf.Variable(1.0)  # Intercept\n"
   ]
  },
  {
   "cell_type": "code",
   "execution_count": 23,
   "id": "64ff1e61",
   "metadata": {},
   "outputs": [],
   "source": [
    "# Linear function\n",
    "def linear_function(x):\n",
    "    return m * x + b\n"
   ]
  },
  {
   "cell_type": "code",
   "execution_count": 24,
   "id": "ab3f3c0e",
   "metadata": {},
   "outputs": [
    {
     "name": "stdout",
     "output_type": "stream",
     "text": [
      "y for x=2: tf.Tensor(2.0, shape=(), dtype=float32)\n"
     ]
    }
   ],
   "source": [
    "# Input x = 2\n",
    "x = tf.constant(2.0)\n",
    "y = linear_function(x)\n",
    "print(\"y for x=2:\", y)\n"
   ]
  },
  {
   "cell_type": "code",
   "execution_count": 25,
   "id": "7b02df46",
   "metadata": {},
   "outputs": [
    {
     "name": "stdout",
     "output_type": "stream",
     "text": [
      "New y for x=2 after updating m: tf.Tensor(2.2, shape=(), dtype=float32)\n"
     ]
    }
   ],
   "source": [
    "m.assign_add(0.1)  # Increase m by 0.1\n",
    "y_new = linear_function(x)\n",
    "print(\"New y for x=2 after updating m:\", y_new)\n"
   ]
  },
  {
   "cell_type": "code",
   "execution_count": 26,
   "id": "131b0f53",
   "metadata": {},
   "outputs": [
    {
     "name": "stdout",
     "output_type": "stream",
     "text": [
      "Step 1: Integer Tensor 'a': tf.Tensor([1 2 3], shape=(3,), dtype=int32)\n",
      "Step 2: Float Tensor 'a_float': tf.Tensor([1. 2. 3.], shape=(3,), dtype=float32)\n",
      "Step 3: Exponential Tensor 'exp': tf.Tensor([ 2.7182817  7.389056  20.085537 ], shape=(3,), dtype=float32)\n",
      "Step 4: Square Root Tensor 'sqrt': tf.Tensor([1.        1.4142135 1.7320508], shape=(3,), dtype=float32)\n"
     ]
    }
   ],
   "source": [
    "import tensorflow as tf  # Import the TensorFlow library, which is used for building and training machine learning models.\n",
    "\n",
    "# Step 1: Create a tensor of integers\n",
    "# A \"tensor\" is a data structure used to store values, similar to arrays in other programming languages.\n",
    "# Here, we are creating a tensor with three integer values: 1, 2, and 3.\n",
    "# The data type is explicitly set to `int32`, which means each number will be stored as a 32-bit integer.\n",
    "a = tf.constant([1, 2, 3], dtype=tf.int32)  \n",
    "print(\"Step 1: Integer Tensor 'a':\", a)  # This shows the tensor and its properties (values, shape, and data type).\n",
    "\n",
    "# Step 2: Convert the integer tensor to a floating-point tensor\n",
    "# Many mathematical operations in TensorFlow, such as exponential calculations, only work with floating-point numbers.\n",
    "# \"Casting\" means changing the data type of the tensor while keeping the values the same.\n",
    "# Here, we convert the integer tensor `a` to a floating-point tensor `a_float` with a data type of `float32`.\n",
    "a_float = tf.cast(a, tf.float32)  \n",
    "print(\"Step 2: Float Tensor 'a_float':\", a_float)  # Display the new tensor to confirm the conversion.\n",
    "\n",
    "# Step 3: Calculate the exponential of each element in the floating-point tensor\n",
    "# The exponential function is a mathematical operation defined as `e^x`, where `e` is approximately 2.718.\n",
    "# TensorFlow's `tf.exp` function calculates this for each element in the tensor.\n",
    "# For example, if the tensor contains [1.0, 2.0, 3.0], it computes [e^1, e^2, e^3].\n",
    "exp = tf.exp(a_float)  \n",
    "print(\"Step 3: Exponential Tensor 'exp':\", exp)  # The result is a tensor where each value is the exponential of the corresponding value in `a_float`.\n",
    "\n",
    "# Step 4: Calculate the square root of each element in the floating-point tensor\n",
    "# The square root of a number is a value that, when multiplied by itself, gives the original number.\n",
    "# For example, the square root of 4 is 2, because 2 * 2 = 4.\n",
    "# TensorFlow's `tf.sqrt` function computes the square root for each element in the tensor.\n",
    "sqrt = tf.sqrt(a_float)  \n",
    "print(\"Step 4: Square Root Tensor 'sqrt':\", sqrt)  # The result is a tensor where each value is the square root of the corresponding value in `a_float`.\n",
    "\n",
    "# Summary\n",
    "# In this code:\n",
    "# - We started with an integer tensor and converted it to a floating-point tensor.\n",
    "# - We applied mathematical operations (exponential and square root) to demonstrate how TensorFlow handles tensors.\n",
    "# - Each step builds on the previous one, showing how to prepare data for computations and apply functions.\n"
   ]
  },
  {
   "cell_type": "markdown",
   "id": "f839ac6b-1099-4eb7-b199-9271de488f34",
   "metadata": {},
   "source": [
    "### Exercice : Création et Manipulation de Tenseurs avec TensorFlow\n",
    "\n",
    "Dans cet exercice, vous allez explorer les concepts de base des tenseurs et les manipulations fondamentales en utilisant TensorFlow. L'objectif est de vous familiariser avec la création, les propriétés, et les opérations de base sur les tenseurs.\n",
    "\n",
    "#### Étapes :\n",
    "\n",
    "1. **Création de tenseurs :**\n",
    "   - Créez un **scalaire** de valeur 7.\n",
    "   - Créez un **vecteur** avec les valeurs `[1.5, 2.5, 3.5]`.\n",
    "   - Créez une **matrice** 2x2 contenant les nombres `[[1, 2], [3, 4]]`.\n",
    "   - Créez un **tenseur aléatoire** de taille 3x3 avec des valeurs comprises entre 0 et 5.\n"
   ]
  },
  {
   "cell_type": "code",
   "execution_count": 27,
   "id": "3db47019-5765-42dd-ae35-da1a203b5e7d",
   "metadata": {},
   "outputs": [
    {
     "name": "stdout",
     "output_type": "stream",
     "text": [
      "Scalar: tf.Tensor(7, shape=(), dtype=int32)\n",
      "Vector: tf.Tensor([1.5 2.5 3.5], shape=(3,), dtype=float32)\n",
      "Matrix: tf.Tensor(\n",
      "[[1 2]\n",
      " [3 4]], shape=(2, 2), dtype=int32)\n",
      "Random Tensor: tf.Tensor(\n",
      "[[2.429523   2.8457685  4.4032125 ]\n",
      " [2.8048599  0.9606695  3.044972  ]\n",
      " [0.8022964  0.35910785 0.48163176]], shape=(3, 3), dtype=float32)\n"
     ]
    }
   ],
   "source": [
    "# A vous de jouer\n",
    "import tensorflow as tf  # Import the TensorFlow library.\n",
    "\n",
    "# Step 1: Creating tensors\n",
    "\n",
    "# a) Create a scalar (a single number)\n",
    "# A scalar is a tensor with 0 dimensions (0-D), representing a single value.\n",
    "scalar = tf.constant(7)  \n",
    "print(\"Scalar:\", scalar)\n",
    "\n",
    "# b) Create a vector (a list of numbers)\n",
    "# A vector is a tensor with 1 dimension (1-D), like a one-dimensional array.\n",
    "vector = tf.constant([1.5, 2.5, 3.5])  \n",
    "print(\"Vector:\", vector)\n",
    "\n",
    "# c) Create a matrix (2-D array)\n",
    "# A matrix is a two-dimensional tensor, commonly used for linear transformations or grayscale images.\n",
    "matrix = tf.constant([[1, 2], [3, 4]])  \n",
    "print(\"Matrix:\", matrix)\n",
    "\n",
    "# d) Create a random tensor (3x3) with values between 0 and 5\n",
    "# A random tensor is often used to initialize weights or simulate data.\n",
    "random_tensor = tf.random.uniform(shape=(3, 3), minval=0, maxval=5)\n",
    "print(\"Random Tensor:\", random_tensor)\n"
   ]
  },
  {
   "cell_type": "markdown",
   "id": "08363fd8-1e8f-4944-85ae-40b8020d6847",
   "metadata": {},
   "source": [
    "2. **Propriétés des tenseurs :**\n",
    "   - Affichez le **type de données** (`dtype`) et la **forme** (`shape`) du vecteur créé à l’étape précédente."
   ]
  },
  {
   "cell_type": "markdown",
   "id": "59bbadae-db4b-4bdc-aa2a-40d47b3ad56c",
   "metadata": {},
   "source": [
    "3. **Manipulation de tenseurs :**\n",
    "   - Utilisez l'**indexation** pour accéder au premier élément du vecteur.\n",
    "   - Utilisez le **slicing** pour obtenir la première colonne de la matrice.\n",
    "   - **Reshapez** le vecteur pour obtenir une forme de `(3, 1)`.\n",
    "   - **Convertissez** le vecteur en tableau NumPy et affichez le résultat."
   ]
  },
  {
   "cell_type": "code",
   "execution_count": 29,
   "id": "7b5eac0a-6304-430b-b7f0-2178e534ddb0",
   "metadata": {},
   "outputs": [
    {
     "name": "stdout",
     "output_type": "stream",
     "text": [
      "First element of the vector: tf.Tensor(1.5, shape=(), dtype=float32)\n",
      "First column of the matrix: tf.Tensor([1 3], shape=(2,), dtype=int32)\n",
      "Reshaped vector (3, 1): tf.Tensor(\n",
      "[[1.5]\n",
      " [2.5]\n",
      " [3.5]], shape=(3, 1), dtype=float32)\n",
      "Vector as a NumPy array: [1.5 2.5 3.5]\n"
     ]
    }
   ],
   "source": [
    "# A vous de jouer\n",
    "# Accessing and manipulating tensors\n",
    "\n",
    "# Step 1: Indexing - Access the first element of the vector\n",
    "# TensorFlow allows you to use standard Python-style indexing to access elements in a tensor.\n",
    "first_element = vector[0]\n",
    "print(\"First element of the vector:\", first_element)\n",
    "\n",
    "# Step 2: Slicing - Extract the first column of the matrix\n",
    "# Slicing allows you to select parts of a tensor using ranges. \n",
    "# The notation `:` means \"select all rows\", and `0` selects the first column.\n",
    "first_column = matrix[:, 0]\n",
    "print(\"First column of the matrix:\", first_column)\n",
    "\n",
    "# Step 3: Reshaping - Change the shape of the vector to (3, 1)\n",
    "# Reshaping changes the structure of the tensor without altering its data.\n",
    "# Here, we transform the vector into a column tensor with 3 rows and 1 column.\n",
    "reshaped_vector = tf.reshape(vector, (3, 1))\n",
    "print(\"Reshaped vector (3, 1):\", reshaped_vector)\n",
    "\n",
    "# Step 4: Converting to a NumPy array\n",
    "# TensorFlow tensors can be converted into NumPy arrays using the `.numpy()` method.\n",
    "# This is useful for integrating TensorFlow with other libraries like NumPy.\n",
    "numpy_array = vector.numpy()\n",
    "print(\"Vector as a NumPy array:\", numpy_array)\n"
   ]
  },
  {
   "cell_type": "markdown",
   "id": "a19d7209-6aa2-44d8-8c3e-506c5c2eb602",
   "metadata": {},
   "source": [
    "4. **Opérations mathématiques sur les tenseurs :**\n",
    "   - Créez deux vecteurs `a` et `b` de tailles égales.\n",
    "   - Effectuez une **addition**, une **soustraction**, une **multiplication**, et une **division** entre les deux vecteurs.\n",
    "   - Calculez l'**exponentielle** des éléments du vecteur `a` et la **racine carrée** des éléments de `b`."
   ]
  },
  {
   "cell_type": "code",
   "execution_count": 30,
   "id": "1eb925d2-b718-4cd4-9031-996a66650090",
   "metadata": {},
   "outputs": [
    {
     "name": "stdout",
     "output_type": "stream",
     "text": [
      "Addition (a + b): tf.Tensor([5. 7. 9.], shape=(3,), dtype=float32)\n",
      "Subtraction (a - b): tf.Tensor([-3. -3. -3.], shape=(3,), dtype=float32)\n",
      "Multiplication (a * b): tf.Tensor([ 4. 10. 18.], shape=(3,), dtype=float32)\n",
      "Division (a / b): tf.Tensor([0.25 0.4  0.5 ], shape=(3,), dtype=float32)\n",
      "Exponential of a (e^a): tf.Tensor([ 2.7182817  7.389056  20.085537 ], shape=(3,), dtype=float32)\n",
      "Square root of b (sqrt(b)): tf.Tensor([2.        2.236068  2.4494898], shape=(3,), dtype=float32)\n"
     ]
    }
   ],
   "source": [
    "# A vous de jouer\n",
    "import tensorflow as tf\n",
    "\n",
    "# Step 1: Create two vectors of equal size\n",
    "# We create tensors `a` and `b` with values for demonstration purposes.\n",
    "a = tf.constant([1.0, 2.0, 3.0])  # A tensor with float32 values\n",
    "b = tf.constant([4.0, 5.0, 6.0])  # Another tensor with the same shape\n",
    "\n",
    "# Step 2: Perform basic mathematical operations\n",
    "\n",
    "# Addition: Adds corresponding elements of the tensors\n",
    "addition = tf.add(a, b)\n",
    "print(\"Addition (a + b):\", addition)\n",
    "\n",
    "# Subtraction: Subtracts elements of `b` from `a`\n",
    "subtraction = tf.subtract(a, b)\n",
    "print(\"Subtraction (a - b):\", subtraction)\n",
    "\n",
    "# Multiplication: Multiplies corresponding elements of the tensors\n",
    "multiplication = tf.multiply(a, b)\n",
    "print(\"Multiplication (a * b):\", multiplication)\n",
    "\n",
    "# Division: Divides elements of `a` by elements of `b`\n",
    "division = tf.divide(a, b)\n",
    "print(\"Division (a / b):\", division)\n",
    "\n",
    "# Step 3: Calculate the exponential of `a`\n",
    "# The exponential of a number `x` is calculated as e^x, where e is approximately 2.718.\n",
    "exponential = tf.exp(a)\n",
    "print(\"Exponential of a (e^a):\", exponential)\n",
    "\n",
    "# Step 4: Calculate the square root of `b`\n",
    "# The square root of each element in `b` is calculated using `tf.sqrt`.\n",
    "square_root = tf.sqrt(b)\n",
    "print(\"Square root of b (sqrt(b)):\", square_root)\n"
   ]
  },
  {
   "cell_type": "code",
   "execution_count": 32,
   "id": "e151746f-4154-4b9f-8434-58076e71b370",
   "metadata": {},
   "outputs": [
    {
     "name": "stdout",
     "output_type": "stream",
     "text": [
      "Addition (a + b): tf.Tensor([5. 7. 9.], shape=(3,), dtype=float32)\n",
      "Subtraction (a - b): tf.Tensor([-3. -3. -3.], shape=(3,), dtype=float32)\n",
      "Multiplication (a * b): tf.Tensor([ 4. 10. 18.], shape=(3,), dtype=float32)\n",
      "Division (a / b): tf.Tensor([0.25 0.4  0.5 ], shape=(3,), dtype=float32)\n",
      "Exponential of a (e^a): tf.Tensor([ 2.7182817  7.389056  20.085537 ], shape=(3,), dtype=float32)\n",
      "Square root of b (sqrt(b)): tf.Tensor([2.        2.236068  2.4494898], shape=(3,), dtype=float32)\n"
     ]
    }
   ],
   "source": [
    "import tensorflow as tf  # Import TensorFlow library for numerical and tensor operations\n",
    "\n",
    "# Step 1: Create two vectors (tensors) of equal size\n",
    "# Tensor `a` contains three float32 values: [1.0, 2.0, 3.0]\n",
    "# Tensor `b` contains three float32 values: [4.0, 5.0, 6.0]\n",
    "a = tf.constant([1.0, 2.0, 3.0])\n",
    "b = tf.constant([4.0, 5.0, 6.0])\n",
    "\n",
    "# Step 2: Perform basic mathematical operations\n",
    "\n",
    "# Addition: Adds each element of `a` to the corresponding element in `b`\n",
    "# Example: [1.0 + 4.0, 2.0 + 5.0, 3.0 + 6.0] = [5.0, 7.0, 9.0]\n",
    "addition = tf.add(a, b)\n",
    "print(\"Addition (a + b):\", addition)\n",
    "\n",
    "# Subtraction: Subtracts each element of `b` from the corresponding element in `a`\n",
    "# Example: [1.0 - 4.0, 2.0 - 5.0, 3.0 - 6.0] = [-3.0, -3.0, -3.0]\n",
    "subtraction = tf.subtract(a, b)\n",
    "print(\"Subtraction (a - b):\", subtraction)\n",
    "\n",
    "# Multiplication: Multiplies each element of `a` with the corresponding element in `b`\n",
    "# Example: [1.0 * 4.0, 2.0 * 5.0, 3.0 * 6.0] = [4.0, 10.0, 18.0]\n",
    "multiplication = tf.multiply(a, b)\n",
    "print(\"Multiplication (a * b):\", multiplication)\n",
    "\n",
    "# Division: Divides each element of `a` by the corresponding element in `b`\n",
    "# Example: [1.0 / 4.0, 2.0 / 5.0, 3.0 / 6.0] = [0.25, 0.4, 0.5]\n",
    "division = tf.divide(a, b)\n",
    "print(\"Division (a / b):\", division)\n",
    "\n",
    "# Step 3: Calculate the exponential of `a`\n",
    "# Computes the exponential (e^x) for each element in `a`\n",
    "# Example: e^1.0 ≈ 2.718, e^2.0 ≈ 7.389, e^3.0 ≈ 20.085\n",
    "exponential = tf.exp(a)\n",
    "print(\"Exponential of a (e^a):\", exponential)\n",
    "\n",
    "# Step 4: Calculate the square root of `b`\n",
    "# Computes the square root (sqrt(x)) for each element in `b`\n",
    "# Example: sqrt(4.0) = 2.0, sqrt(5.0) ≈ 2.236, sqrt(6.0) ≈ 2.449\n",
    "square_root = tf.sqrt(b)\n",
    "print(\"Square root of b (sqrt(b)):\", square_root)\n"
   ]
  }
 ],
 "metadata": {
  "kernelspec": {
   "display_name": "env",
   "language": "python",
   "name": "python3"
  },
  "language_info": {
   "codemirror_mode": {
    "name": "ipython",
    "version": 3
   },
   "file_extension": ".py",
   "mimetype": "text/x-python",
   "name": "python",
   "nbconvert_exporter": "python",
   "pygments_lexer": "ipython3",
   "version": "3.12.6"
  }
 },
 "nbformat": 4,
 "nbformat_minor": 5
}
